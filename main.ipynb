{
  "metadata": {
    "language_info": {
      "codemirror_mode": {
        "name": "python",
        "version": 3
      },
      "file_extension": ".py",
      "mimetype": "text/x-python",
      "name": "python",
      "nbconvert_exporter": "python",
      "pygments_lexer": "ipython3",
      "version": "3.8"
    },
    "kernelspec": {
      "name": "python",
      "display_name": "Python (Pyodide)",
      "language": "python"
    }
  },
  "nbformat_minor": 4,
  "nbformat": 4,
  "cells": [
    {
      "cell_type": "code",
      "source": "import pandas as pd\nimport numpy as np\n\n# Load the CSV file into a Pandas DataFrame\ndf = pd.read_csv('SOCR-HeightWeight.csv')",
      "metadata": {
        "trusted": true
      },
      "execution_count": 8,
      "outputs": []
    },
    {
      "cell_type": "code",
      "source": "# Calculate the mean, mode, and median of the \"height\" column\nheight_mean = df['Height(Inches)'].mean()\nheight_mode = df['Height(Inches)'].mode().iloc[0]\nheight_median = df['Height(Inches)'].median()\n\nprint(f\"Height Mean: {height_mean}\")\nprint(f\"Height Mode: {height_mode}\")\nprint(f\"Height Median: {height_median}\")",
      "metadata": {
        "trusted": true
      },
      "execution_count": 12,
      "outputs": [
        {
          "name": "stdout",
          "text": "Height Mean: 67.99311359679999\nHeight Mode: 65.65796\nHeight Median: 67.9957\n",
          "output_type": "stream"
        }
      ]
    },
    {
      "cell_type": "code",
      "source": "\n# Calculate the mean, mode, and median of the \"weight\" column\nweight_mean = df['Weight(Pounds)'].mean()\nweight_mode = df['Weight(Pounds)'].mode().iloc[0] \nweight_median = df['Weight(Pounds)'].median()\n\nprint(f\"Weight Mean: {weight_mean}\")\nprint(f\"Weight Mode: {weight_mode}\")\nprint(f\"Weight Median: {weight_median}\")",
      "metadata": {
        "trusted": true
      },
      "execution_count": 10,
      "outputs": [
        {
          "name": "stdout",
          "text": "Weight Mean: 127.07942116080001\nWeight Mode: 124.7975\nWeight Median: 127.15775\n",
          "output_type": "stream"
        }
      ]
    },
    {
      "cell_type": "code",
      "source": "",
      "metadata": {},
      "execution_count": null,
      "outputs": []
    }
  ]
}